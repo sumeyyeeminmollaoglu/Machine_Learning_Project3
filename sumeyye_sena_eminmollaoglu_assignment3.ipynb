{
 "cells": [
  {
   "cell_type": "code",
   "execution_count": null,
   "metadata": {},
   "outputs": [],
   "source": []
  },
  {
   "cell_type": "raw",
   "metadata": {},
   "source": [
    "import os\n",
    "import numpy as np\n",
    "from PIL import Image\n",
    "import matplotlib.pyplot as plt"
   ]
  },
  {
   "cell_type": "markdown",
   "metadata": {},
   "source": [
    "# DATASET"
   ]
  },
  {
   "cell_type": "code",
   "execution_count": 24,
   "metadata": {},
   "outputs": [],
   "source": [
    "eyewear_encode = {'open': 0, \"sunglasses\":1}"
   ]
  },
  {
   "cell_type": "code",
   "execution_count": 29,
   "metadata": {},
   "outputs": [],
   "source": [
    "# Training Data\n",
    "train_files =list(map(lambda x: os.path.join(\"TrainingSet/\",x ),os.listdir(\"TrainingSet\")))\n",
    "\n",
    "X_train = []\n",
    "y_train = []\n",
    "\n",
    "for i in train_files:\n",
    "    if i.endswith(\".jpg\"):\n",
    "        eyewear = eyewear_encode[i.split(\"/\")[1].split(\"_\")[3].strip(\".jpg\")]\n",
    "        y_train.append(eyewear)\n",
    "        m = np.asarray(Image.open(i)).flatten()\n",
    "        X_train.append(m)\n",
    "\n",
    "# Test Data\n",
    "test_files =list(map(lambda x: os.path.join(\"TestSet/\",x ), os.listdir(\"TestSet/\")))\n",
    "\n",
    "X_test = []\n",
    "y_test = []\n",
    "\n",
    "for i in test_files:\n",
    "    if i.endswith(\".jpg\"):\n",
    "        eyewear = eyewear_encode[i.split(\"/\")[1].split(\"_\")[3].strip(\".jpg\")]\n",
    "        y_test.append(eyewear)\n",
    "        m = np.asarray(Image.open(i)).flatten()\n",
    "        X_test.append(m)\n",
    "       \n",
    "X_train = np.array(X_train)\n",
    "y_train = np.array(y_train)\n",
    "\n",
    "X_test = np.array(X_test)\n",
    "y_test = np.array(y_test)"
   ]
  },
  {
   "cell_type": "code",
   "execution_count": 30,
   "metadata": {},
   "outputs": [
    {
     "name": "stdout",
     "output_type": "stream",
     "text": [
      "[0 1 0 1 0 1 0 1 0 1 0 1 0 1 0 1 0 1 0 1 0 1 0 0 1 0 1 0 1 0 0 1 0 1 0 1 0\n",
      " 1 0 0 1 0 1 0 1 1 0 1 0 1 0 1 0 1 0 0 0 1 0 1 0 1 0 1 0 1 0 1 0 1 0 1 0 1\n",
      " 0 1 0 1 0 1 0 1 0 1 0 1 0 1 0 1]\n",
      "[[21  5  0 ... 44 23  2]\n",
      " [ 1  3  0 ...  3  1  0]\n",
      " [20  5  0 ...  4  2  1]\n",
      " ...\n",
      " [64 67 75 ...  0  0  4]\n",
      " [59 64 68 ...  1  0  1]\n",
      " [66 68 75 ...  1  2  2]]\n"
     ]
    }
   ],
   "source": [
    "print(y_test)\n",
    "print(X_train)"
   ]
  },
  {
   "cell_type": "code",
   "execution_count": 4,
   "metadata": {},
   "outputs": [
    {
     "data": {
      "text/plain": [
       "(315, 90)"
      ]
     },
     "execution_count": 4,
     "metadata": {},
     "output_type": "execute_result"
    }
   ],
   "source": [
    "len(X_train),len(X_test)"
   ]
  },
  {
   "cell_type": "markdown",
   "metadata": {},
   "source": [
    "# DECISION TREE"
   ]
  },
  {
   "cell_type": "markdown",
   "metadata": {},
   "source": [
    "## part a"
   ]
  },
  {
   "cell_type": "code",
   "execution_count": 5,
   "metadata": {},
   "outputs": [
    {
     "data": {
      "text/plain": [
       "DecisionTreeClassifier(class_weight=None, criterion='gini', max_depth=2,\n",
       "            max_features=None, max_leaf_nodes=None,\n",
       "            min_impurity_decrease=0.0, min_impurity_split=None,\n",
       "            min_samples_leaf=1, min_samples_split=2,\n",
       "            min_weight_fraction_leaf=0.0, presort=False, random_state=0,\n",
       "            splitter='best')"
      ]
     },
     "execution_count": 5,
     "metadata": {},
     "output_type": "execute_result"
    }
   ],
   "source": [
    "from sklearn.tree import DecisionTreeClassifier\n",
    "decision_tree = DecisionTreeClassifier(max_depth=2, random_state=0)    #Creating decision tree with given parameters\n",
    "decision_tree.fit(X_train,y_train)"
   ]
  },
  {
   "cell_type": "code",
   "execution_count": 6,
   "metadata": {},
   "outputs": [],
   "source": [
    "from sklearn.metrics import accuracy_score        #calculating accuracy scores for both training and test\n",
    "pred_train=decision_tree.predict(X_train)\n",
    "pred_test=decision_tree.predict(X_test)\n",
    "train_acc =accuracy_score(y_train, pred_train)\n",
    "test_acc = accuracy_score(y_test, pred_test)"
   ]
  },
  {
   "cell_type": "code",
   "execution_count": 7,
   "metadata": {},
   "outputs": [
    {
     "name": "stdout",
     "output_type": "stream",
     "text": [
      "0.7111111111111111\n",
      "0.45555555555555555\n"
     ]
    }
   ],
   "source": [
    "# DON'T REMOVE THIS CELL\n",
    "print(train_acc)\n",
    "print(test_acc)"
   ]
  },
  {
   "cell_type": "markdown",
   "metadata": {},
   "source": [
    "## part b"
   ]
  },
  {
   "cell_type": "markdown",
   "metadata": {},
   "source": [
    "__Did your model performs well? Is bias low or high? What about variance?__"
   ]
  },
  {
   "cell_type": "markdown",
   "metadata": {},
   "source": [
    "The model didn't perform well. Bias is low and variance is high since the model performs well on training data but has high error rate on test data."
   ]
  },
  {
   "cell_type": "markdown",
   "metadata": {},
   "source": [
    "# BAGGING MODELS"
   ]
  },
  {
   "cell_type": "markdown",
   "metadata": {},
   "source": [
    "## part c"
   ]
  },
  {
   "cell_type": "code",
   "execution_count": 8,
   "metadata": {},
   "outputs": [
    {
     "data": {
      "text/plain": [
       "BaggingClassifier(base_estimator=DecisionTreeClassifier(class_weight=None, criterion='gini', max_depth=2,\n",
       "            max_features=None, max_leaf_nodes=None,\n",
       "            min_impurity_decrease=0.0, min_impurity_split=None,\n",
       "            min_samples_leaf=1, min_samples_split=2,\n",
       "            min_weight_fraction_leaf=0.0, presort=False, random_state=0,\n",
       "            splitter='best'),\n",
       "         bootstrap=False, bootstrap_features=False, max_features=40,\n",
       "         max_samples=1.0, n_estimators=10, n_jobs=None, oob_score=False,\n",
       "         random_state=0, verbose=0, warm_start=False)"
      ]
     },
     "execution_count": 8,
     "metadata": {},
     "output_type": "execute_result"
    }
   ],
   "source": [
    "from sklearn.ensemble import BaggingClassifier       #creating bagging classifier with decision tree classifier with given parameters\n",
    "bagging_clf1 = BaggingClassifier(\n",
    "    DecisionTreeClassifier(random_state=0, max_depth=2), bootstrap=False, bootstrap_features=False,\n",
    "    max_features=40,random_state=0)\n",
    "bagging_clf1.fit(X_train, y_train)"
   ]
  },
  {
   "cell_type": "markdown",
   "metadata": {},
   "source": [
    "## part d"
   ]
  },
  {
   "cell_type": "code",
   "execution_count": 9,
   "metadata": {},
   "outputs": [
    {
     "data": {
      "image/png": "[encoded data removed]",
      "text/plain": [
       "<Figure size 432x288 with 1 Axes>"
      ]
     },
     "metadata": {
      "needs_background": "light"
     },
     "output_type": "display_data"
    }
   ],
   "source": [
    "# PLOT\n",
    "\n",
    "accuracy_list=[]\n",
    "plt.figure()\n",
    "plt.xlabel(\"Number of Models\")\n",
    "plt.ylabel(\"Test Accuracy\")\n",
    "index_list=[]\n",
    "for i in range(1,41):          #finding optimum number of models for bagging by calculating accuracy for each number of models\n",
    "    index_list.append(i)\n",
    "    bagging_model = BaggingClassifier(\n",
    "    DecisionTreeClassifier(max_depth=2, random_state=0), n_estimators=i,\n",
    "    max_features=40,bootstrap= False, bootstrap_features=False, n_jobs=-1, random_state=0)\n",
    "    bagging_model.fit(X_train,y_train)\n",
    "    predict_test=bagging_model.predict(X_test)\n",
    "    accuracy=accuracy_score(y_test, predict_test)\n",
    "    accuracy_list.append(accuracy)\n",
    "plt.plot(index_list,accuracy_list, '+-', color=\"b\",\n",
    "             label=\"Test Accuracy\")\n",
    "plt.legend(loc=\"best\")\n",
    "plt.show()"
   ]
  },
  {
   "cell_type": "markdown",
   "metadata": {},
   "source": [
    "## part e"
   ]
  },
  {
   "cell_type": "markdown",
   "metadata": {},
   "source": [
    "__What is the best number for the number of models in your model? (If there are several best numbers with same accuracy, report the highest number). Calculate train and test accuracy of the bagging model  which has the best number of models.__"
   ]
  },
  {
   "cell_type": "markdown",
   "metadata": {},
   "source": [
    "Best numbers are 29, 30, 31 because they have the highest accuracy."
   ]
  },
  {
   "cell_type": "code",
   "execution_count": 116,
   "metadata": {},
   "outputs": [],
   "source": [
    "bagging_model_highest = BaggingClassifier(              #creating the model again with the best number found above\n",
    "    DecisionTreeClassifier(max_depth=2, random_state=0), n_estimators=31,\n",
    "    max_features=40,bootstrap= False, bootstrap_features=False, n_jobs=-1, random_state=0)\n",
    "bagging_model_highest.fit(X_train, y_train)\n",
    "pred_highest_train=bagging_model_highest.predict(X_train)\n",
    "pred_highest_test=bagging_model_highest.predict(X_test)\n",
    "\n"
   ]
  },
  {
   "cell_type": "code",
   "execution_count": 117,
   "metadata": {},
   "outputs": [],
   "source": [
    "train_acc = accuracy_score(y_train,pred_highest_train)    #calculating both trainng and test accuracies\n",
    "test_acc =accuracy_score(y_test,pred_highest_test)"
   ]
  },
  {
   "cell_type": "code",
   "execution_count": 118,
   "metadata": {},
   "outputs": [
    {
     "name": "stdout",
     "output_type": "stream",
     "text": [
      "0.9111111111111111\n",
      "0.7666666666666667\n"
     ]
    }
   ],
   "source": [
    "# DON'T REMOVE THIS CELL\n",
    "print(train_acc)\n",
    "print(test_acc)"
   ]
  },
  {
   "cell_type": "markdown",
   "metadata": {},
   "source": [
    "## part f"
   ]
  },
  {
   "cell_type": "markdown",
   "metadata": {},
   "source": [
    "__Compare the decision tree classifier in part a and best bagging classifier in part e in terms of accuracy, bias, and variance.__"
   ]
  },
  {
   "cell_type": "markdown",
   "metadata": {},
   "source": [
    "Best bagging classifier performs better. Both training and test accuracies are higher but still not satisfying since it again performs well on the training set but not that good on test set. Bias didn't change that much and the variance is lower than decision tree classifier."
   ]
  },
  {
   "cell_type": "markdown",
   "metadata": {},
   "source": [
    "## part g"
   ]
  },
  {
   "cell_type": "code",
   "execution_count": 120,
   "metadata": {},
   "outputs": [],
   "source": [
    "bagging_clf2 = BaggingClassifier(             #creating again bagging classifier but with replacement this time\n",
    "    DecisionTreeClassifier(max_depth=2, random_state=0),\n",
    "    max_features=40,bootstrap= True, bootstrap_features=False, n_jobs=-1, random_state=0)"
   ]
  },
  {
   "cell_type": "markdown",
   "metadata": {},
   "source": [
    "## part h"
   ]
  },
  {
   "cell_type": "code",
   "execution_count": 121,
   "metadata": {},
   "outputs": [
    {
     "data": {
      "image/png": "[encoded data removed]",
      "text/plain": [
       "<Figure size 432x288 with 1 Axes>"
      ]
     },
     "metadata": {
      "needs_background": "light"
     },
     "output_type": "display_data"
    }
   ],
   "source": [
    "# PLOT\n",
    "accuracy_list_2=[]\n",
    "plt.figure()\n",
    "plt.xlabel(\"Number of Models\")\n",
    "plt.ylabel(\"Test Accuracy\")    \n",
    "index_list_2=[]\n",
    "for i in range(1,41):        #plotting test accuracy for each number of models to find the best number out of 40\n",
    "    index_list_2.append(i)\n",
    "    bagging_clf2 =BaggingClassifier(\n",
    "    DecisionTreeClassifier(max_depth=2, random_state=0), n_estimators=i,\n",
    "    max_features=40,bootstrap= True, bootstrap_features=False, n_jobs=-1, random_state=0)\n",
    "    bagging_clf2.fit(X_train,y_train)\n",
    "    predict_test=bagging_clf2.predict(X_test)\n",
    "    accuracy=accuracy_score(y_test, predict_test)\n",
    "    accuracy_list_2.append(accuracy)\n",
    "plt.plot(index_list_2,accuracy_list_2, '+-', color=\"b\",\n",
    "          label=\"Test Accuracy\")\n",
    "plt.legend(loc=\"best\")\n",
    "plt.show()"
   ]
  },
  {
   "cell_type": "markdown",
   "metadata": {},
   "source": [
    "## part i"
   ]
  },
  {
   "cell_type": "markdown",
   "metadata": {},
   "source": [
    "__What is the best number for the number of models in your model? (If there are several best numbers with same accuracy, report the highest number). Calculate train and test accuracy of the bagging model which has the best number of models.__"
   ]
  },
  {
   "cell_type": "markdown",
   "metadata": {},
   "source": [
    "Best numbers are 32,33 because they have the highest accuracy."
   ]
  },
  {
   "cell_type": "code",
   "execution_count": 126,
   "metadata": {},
   "outputs": [],
   "source": [
    "bagging_model_highest = BaggingClassifier(     #creating the new bagging classifier with the best number \n",
    "    DecisionTreeClassifier(max_depth=2, random_state=0), n_estimators=33,\n",
    "    max_features=40,bootstrap= True, bootstrap_features=False, n_jobs=-1, random_state=0)\n",
    "bagging_model_highest.fit(X_train, y_train)\n",
    "pred_highest_train=bagging_model_highest.predict(X_train)\n",
    "pred_highest_test=bagging_model_highest.predict(X_test)"
   ]
  },
  {
   "cell_type": "code",
   "execution_count": 127,
   "metadata": {},
   "outputs": [],
   "source": [
    "train_acc = accuracy_score(y_train,pred_highest_train)    #calculating both training and test accuracy\n",
    "test_acc =accuracy_score(y_test,pred_highest_test)"
   ]
  },
  {
   "cell_type": "code",
   "execution_count": 128,
   "metadata": {},
   "outputs": [
    {
     "name": "stdout",
     "output_type": "stream",
     "text": [
      "0.9238095238095239\n",
      "0.7777777777777778\n"
     ]
    }
   ],
   "source": [
    "# DON'T REMOVE THIS CELL\n",
    "print(train_acc)\n",
    "print(test_acc)"
   ]
  },
  {
   "cell_type": "markdown",
   "metadata": {},
   "source": [
    "## part j"
   ]
  },
  {
   "cell_type": "markdown",
   "metadata": {},
   "source": [
    "__Compare the decision tree classifier in part a and best bagging classifier in part i in terms of accuracy, bias, and variance.__"
   ]
  },
  {
   "cell_type": "markdown",
   "metadata": {},
   "source": [
    "Both training and test accuracies are higher than decision tree accuracies but bias and variance are not different from the previous bagging. "
   ]
  },
  {
   "cell_type": "markdown",
   "metadata": {},
   "source": [
    "## part k"
   ]
  },
  {
   "cell_type": "markdown",
   "metadata": {},
   "source": [
    "__Compare two bagging models that you found in part e and part i in terms of accuracy, bias, and variance.__"
   ]
  },
  {
   "cell_type": "markdown",
   "metadata": {},
   "source": [
    "Accuracy only changed a little (91.1 to 92.3) but still the second one is better. Bias is a little lower in part i when compared to part e. Variance is not that different in both models."
   ]
  },
  {
   "cell_type": "markdown",
   "metadata": {},
   "source": [
    "## part l"
   ]
  },
  {
   "cell_type": "markdown",
   "metadata": {},
   "source": [
    "__How sampling features and sampling instances affected the performance of your model? Why?__"
   ]
  },
  {
   "cell_type": "markdown",
   "metadata": {},
   "source": [
    "Sampling instances and sampling feature resulted with lower variance to reduce overfitting with choosing strong features (for sampling features) and didn't change the bias. "
   ]
  },
  {
   "cell_type": "markdown",
   "metadata": {},
   "source": [
    "# BOOSTING MODELS"
   ]
  },
  {
   "cell_type": "markdown",
   "metadata": {},
   "source": [
    "## part m"
   ]
  },
  {
   "cell_type": "code",
   "execution_count": 64,
   "metadata": {},
   "outputs": [
    {
     "data": {
      "text/plain": [
       "AdaBoostClassifier(algorithm='SAMME.R',\n",
       "          base_estimator=DecisionTreeClassifier(class_weight=None, criterion='gini', max_depth=2,\n",
       "            max_features=None, max_leaf_nodes=None,\n",
       "            min_impurity_decrease=0.0, min_impurity_split=None,\n",
       "            min_samples_leaf=1, min_samples_split=2,\n",
       "            min_weight_fraction_leaf=0.0, presort=False, random_state=0,\n",
       "            splitter='best'),\n",
       "          learning_rate=1.0, n_estimators=50, random_state=0)"
      ]
     },
     "execution_count": 64,
     "metadata": {},
     "output_type": "execute_result"
    }
   ],
   "source": [
    "from sklearn.ensemble import AdaBoostClassifier\n",
    "adaboost_clf = AdaBoostClassifier(        #creating AdaBoost classifier with given parameters\n",
    "    DecisionTreeClassifier(max_depth=2, random_state=0), random_state=0)\n",
    "adaboost_clf.fit(X_train, y_train)"
   ]
  },
  {
   "cell_type": "markdown",
   "metadata": {},
   "source": [
    "## part n"
   ]
  },
  {
   "cell_type": "code",
   "execution_count": 45,
   "metadata": {},
   "outputs": [
    {
     "data": {
      "image/png": "[encoded data removed]",
      "text/plain": [
       "<Figure size 432x288 with 1 Axes>"
      ]
     },
     "metadata": {
      "needs_background": "light"
     },
     "output_type": "display_data"
    }
   ],
   "source": [
    "# PLOT\n",
    "accuracy_list_test=[]\n",
    "accuracy_list_train=[]\n",
    "plt.figure()\n",
    "plt.xlabel(\"Number of Models\")\n",
    "plt.ylabel(\"Boosting Accuracy\")\n",
    "index_list=[]\n",
    "for i in range(1,51):    #finding the optimal number of models out of 50 and calculating both training and test accuaricies to plot\n",
    "    index_list.append(i)\n",
    "    adaboost_clf = AdaBoostClassifier(\n",
    "    DecisionTreeClassifier(max_depth=2, random_state=0),n_estimators=i, random_state=0)\n",
    "    adaboost_clf.fit(X_train, y_train)\n",
    "    predict_train=adaboost_clf.predict(X_train)\n",
    "    accuracy_train=accuracy_score(y_train, predict_train)\n",
    "    accuracy_list_train.append(accuracy_train)\n",
    "    predict_test=adaboost_clf.predict(X_test)\n",
    "    accuracy_test=accuracy_score(y_test, predict_test)\n",
    "    accuracy_list_test.append(accuracy_test)\n",
    "plt.plot(index_list,accuracy_list_train, '+-', color=\"r\",\n",
    "          label=\"Train Accuracy\")\n",
    "plt.plot(index_list,accuracy_list_test, '+-', color=\"b\",\n",
    "          label=\"Test Accuracy\")\n",
    "plt.legend(loc=\"best\")\n",
    "plt.show()\n"
   ]
  },
  {
   "cell_type": "markdown",
   "metadata": {},
   "source": [
    "## part o"
   ]
  },
  {
   "cell_type": "markdown",
   "metadata": {},
   "source": [
    "__What is the best number for the number of models in your model? (If there are several best numbers with same accuracy, report the highest number). Report train and test accuracy of the boosting model which has the best number of models.__"
   ]
  },
  {
   "cell_type": "markdown",
   "metadata": {},
   "source": [
    "Best numbers are 9, 40. Highest number is 40."
   ]
  },
  {
   "cell_type": "code",
   "execution_count": 65,
   "metadata": {},
   "outputs": [],
   "source": [
    "adaboost_clf= AdaBoostClassifier(             #creating new Adaboost with best number of models\n",
    "    DecisionTreeClassifier(max_depth=2, random_state=0),n_estimators= 40,random_state=0)\n",
    "\n",
    "adaboost_clf.fit(X_train,y_train)\n",
    "\n",
    "adaboost_pred_train=adaboost_clf.predict(X_train)\n",
    "adaboost_pred_test=adaboost_clf.predict(X_test)"
   ]
  },
  {
   "cell_type": "code",
   "execution_count": 66,
   "metadata": {},
   "outputs": [],
   "source": [
    "train_acc = accuracy_score(y_train, adaboost_pred_train)     #calculating accuracies for Adaboost with best number of models\n",
    "test_acc =accuracy_score(y_test, adaboost_pred_test)"
   ]
  },
  {
   "cell_type": "code",
   "execution_count": 67,
   "metadata": {},
   "outputs": [
    {
     "name": "stdout",
     "output_type": "stream",
     "text": [
      "1.0\n",
      "0.6666666666666666\n"
     ]
    }
   ],
   "source": [
    "# DON'T REMOVE THIS CELL\n",
    "print(train_acc)\n",
    "print(test_acc)"
   ]
  },
  {
   "cell_type": "markdown",
   "metadata": {},
   "source": [
    "# STACKING"
   ]
  },
  {
   "cell_type": "markdown",
   "metadata": {},
   "source": [
    "## part p"
   ]
  },
  {
   "cell_type": "code",
   "execution_count": 68,
   "metadata": {},
   "outputs": [],
   "source": [
    "from sklearn.linear_model import LogisticRegression    #creating LogReg and SVC with given parameters\n",
    "from sklearn.svm import SVC\n",
    "log_clf = LogisticRegression(random_state=0, C=0.001, penalty=\"l2\", solver=\"saga\")\n",
    "svc_clf = SVC(random_state=0, C=0.1, decision_function_shape=\"ovo\", kernel=\"poly\",tol=0.0001, probability=True)"
   ]
  },
  {
   "cell_type": "code",
   "execution_count": 69,
   "metadata": {},
   "outputs": [],
   "source": [
    "from sklearn.model_selection import train_test_split  #splitting train datasets\n",
    "train_set_1, train_set_2, train_y_1, train_y_2 = train_test_split(X_train, y_train, random_state=0, test_size=0.5)\n"
   ]
  },
  {
   "cell_type": "code",
   "execution_count": 70,
   "metadata": {},
   "outputs": [
    {
     "name": "stdout",
     "output_type": "stream",
     "text": [
      "[126 212  77 ... 231 145 182]\n",
      "[ 72 133 179 ... 189  52 160]\n",
      "76\n",
      "82\n"
     ]
    }
   ],
   "source": [
    "# DON'T REMOVE THIS CELL\n",
    "print(sum(train_set_1))\n",
    "print(sum(train_set_2))\n",
    "print(sum(train_y_1))\n",
    "print(sum(train_y_2))"
   ]
  },
  {
   "cell_type": "code",
   "execution_count": 71,
   "metadata": {},
   "outputs": [
    {
     "name": "stderr",
     "output_type": "stream",
     "text": [
      "c:\\python37\\lib\\site-packages\\sklearn\\linear_model\\sag.py:334: ConvergenceWarning: The max_iter was reached which means the coef_ did not converge\n",
      "  \"the coef_ did not converge\", ConvergenceWarning)\n",
      "c:\\python37\\lib\\site-packages\\sklearn\\svm\\base.py:196: FutureWarning: The default value of gamma will change from 'auto' to 'scale' in version 0.22 to account better for unscaled features. Set gamma explicitly to 'auto' or 'scale' to avoid this warning.\n",
      "  \"avoid this warning.\", FutureWarning)\n"
     ]
    },
    {
     "data": {
      "text/plain": [
       "SVC(C=0.1, cache_size=200, class_weight=None, coef0=0.0,\n",
       "  decision_function_shape='ovo', degree=3, gamma='auto_deprecated',\n",
       "  kernel='poly', max_iter=-1, probability=True, random_state=0,\n",
       "  shrinking=True, tol=0.0001, verbose=False)"
      ]
     },
     "execution_count": 71,
     "metadata": {},
     "output_type": "execute_result"
    }
   ],
   "source": [
    "log_clf.fit(train_set_1, train_y_1)  #training the classifiers with splitted train sets\n",
    "svc_clf.fit(train_set_1, train_y_1)\n"
   ]
  },
  {
   "cell_type": "markdown",
   "metadata": {},
   "source": [
    "## part q"
   ]
  },
  {
   "cell_type": "code",
   "execution_count": 81,
   "metadata": {},
   "outputs": [],
   "source": [
    "prob_logreg=log_clf.predict_proba(train_set_2)  #making probabilistic predictions on train set with two classifier\n",
    "prob_svc=svc_clf.predict_proba(train_set_2)"
   ]
  },
  {
   "cell_type": "code",
   "execution_count": 84,
   "metadata": {},
   "outputs": [],
   "source": [
    "new_train_set_2 = []     #creating a new train set with the results of the probabilistic prediction \n",
    "\n",
    "for i in range(len(prob_logreg)):\n",
    "    list2=[]\n",
    "    list2.append(prob_logreg[i][0])\n",
    "    list2.append(prob_svc[i][0])\n",
    "    new_train_set_2.append(list2)"
   ]
  },
  {
   "cell_type": "code",
   "execution_count": 87,
   "metadata": {},
   "outputs": [
    {
     "data": {
      "text/plain": [
       "RandomForestClassifier(bootstrap=True, class_weight=None, criterion='gini',\n",
       "            max_depth=1, max_features='auto', max_leaf_nodes=None,\n",
       "            min_impurity_decrease=0.0, min_impurity_split=None,\n",
       "            min_samples_leaf=1, min_samples_split=2,\n",
       "            min_weight_fraction_leaf=0.0, n_estimators=10, n_jobs=None,\n",
       "            oob_score=False, random_state=0, verbose=0, warm_start=False)"
      ]
     },
     "execution_count": 87,
     "metadata": {},
     "output_type": "execute_result"
    }
   ],
   "source": [
    "from sklearn.ensemble import RandomForestClassifier    #creating RandomForest with given parameters and training model with new train set\n",
    "blender = RandomForestClassifier(random_state=0, max_depth=1, n_estimators=10)\n",
    "blender.fit(new_train_set_2, train_y_2)"
   ]
  },
  {
   "cell_type": "code",
   "execution_count": 96,
   "metadata": {},
   "outputs": [
    {
     "name": "stdout",
     "output_type": "stream",
     "text": [
      "[76.8927692  73.44946142]\n"
     ]
    }
   ],
   "source": [
    "# DON'T REMOVE THIS CELL\n",
    "print(sum(np.array(new_train_set_2)))"
   ]
  },
  {
   "cell_type": "markdown",
   "metadata": {},
   "source": [
    "## part r"
   ]
  },
  {
   "cell_type": "code",
   "execution_count": 129,
   "metadata": {},
   "outputs": [],
   "source": [
    "prob_logreg_test=log_clf.predict_proba(X_test)   #creating new test set with previous classifiers\n",
    "prob_svc_test=svc_clf.predict_proba(X_test)"
   ]
  },
  {
   "cell_type": "code",
   "execution_count": 130,
   "metadata": {},
   "outputs": [],
   "source": [
    "new_test_set =[]      #creating new test sets with the probabilistic predictions\n",
    "\n",
    "for i in range(len(prob_logreg_test)):\n",
    "    list2=[]\n",
    "    list2.append(prob_logreg_test[i][0])\n",
    "    list2.append(prob_svc_test[i][0])\n",
    "    new_test_set.append(list2)"
   ]
  },
  {
   "cell_type": "code",
   "execution_count": 131,
   "metadata": {},
   "outputs": [],
   "source": [
    "new_blender=blender.predict(new_test_set)  #performing prediction with the previous model "
   ]
  },
  {
   "cell_type": "code",
   "execution_count": 132,
   "metadata": {},
   "outputs": [],
   "source": [
    "from sklearn.metrics import f1_score     #calculating accuracy and f1 score\n",
    "test_acc =accuracy_score(y_test,new_blender)\n",
    "test_f1 = f1_score(y_test, new_blender)"
   ]
  },
  {
   "cell_type": "code",
   "execution_count": 133,
   "metadata": {},
   "outputs": [
    {
     "name": "stdout",
     "output_type": "stream",
     "text": [
      "\n",
      "Test Scores:\n",
      "0.8111111111111111\n",
      "0.7848101265822784\n"
     ]
    }
   ],
   "source": [
    "# DON'T REMOVE THIS CELL\n",
    "print(\"\\nTest Scores:\")\n",
    "print(test_acc)\n",
    "print(test_f1)"
   ]
  },
  {
   "cell_type": "markdown",
   "metadata": {},
   "source": [
    "__Did stacking model perform well?__"
   ]
  },
  {
   "cell_type": "markdown",
   "metadata": {},
   "source": [
    "It performed better on test set when compared to previous models."
   ]
  },
  {
   "cell_type": "code",
   "execution_count": null,
   "metadata": {},
   "outputs": [],
   "source": []
  }
 ],
 "metadata": {
  "kernelspec": {
   "display_name": "Python 3",
   "language": "python",
   "name": "python3"
  },
  "language_info": {
   "codemirror_mode": {
    "name": "ipython",
    "version": 3
   },
   "file_extension": ".py",
   "mimetype": "text/x-python",
   "name": "python",
   "nbconvert_exporter": "python",
   "pygments_lexer": "ipython3",
   "version": "3.6.7"
  }
 },
 "nbformat": 4,
 "nbformat_minor": 2
}
